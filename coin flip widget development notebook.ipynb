{
 "cells": [
  {
   "cell_type": "markdown",
   "metadata": {},
   "source": [
    "# Development notebook for a coin flip widget"
   ]
  },
  {
   "cell_type": "code",
   "execution_count": 80,
   "metadata": {},
   "outputs": [],
   "source": [
    "from random import randint, choices\n",
    "import numpy as np\n",
    "import matplotlib.pyplot as plt\n",
    "from ipywidgets import interactive\n",
    "import ipywidgets as widgets\n",
    "from collections import Counter"
   ]
  },
  {
   "cell_type": "code",
   "execution_count": 100,
   "metadata": {},
   "outputs": [
    {
     "data": {
      "application/vnd.jupyter.widget-view+json": {
       "model_id": "2ef8d73779714fbe98afa69bc0d227ec",
       "version_major": 2,
       "version_minor": 0
      },
      "text/plain": [
       "interactive(children=(IntSlider(value=50, description='heads', min=1), IntSlider(value=50, description='tails'…"
      ]
     },
     "metadata": {},
     "output_type": "display_data"
    }
   ],
   "source": [
    "slider_max = 100\n",
    "slider_min = 1\n",
    "set_value = 20\n",
    "\n",
    "def display_headsandtails(heads, tails):\n",
    "    #display(heads, tails)\n",
    "    \n",
    "    fig = plt.figure()\n",
    "    ax = fig.add_subplot(1, 1, 1)\n",
    "    ax.bar(1,heads, width = 0.8)\n",
    "    ax.bar(2,tails, width = 0.8)\n",
    "    \n",
    "    #set xtick labels so that we only see heads and tails instead of numbers\n",
    "    ax.set_xticks([1,2])\n",
    "    ax.set_xticklabels(['heads','tails'])\n",
    "    ax.set_ylabel('count')\n",
    "\n",
    "    fig.canvas.draw()\n",
    "    \n",
    "    return heads, tails\n",
    "\n",
    "widget_object = interactive(display_headsandtails, heads=(1,100,1), tails=(1,100,1))\n",
    "display(widget_object);"
   ]
  },
  {
   "cell_type": "code",
   "execution_count": 108,
   "metadata": {},
   "outputs": [
    {
     "data": {
      "application/vnd.jupyter.widget-view+json": {
       "model_id": "eb93628b59e54a3a94c6d461127d0b73",
       "version_major": 2,
       "version_minor": 0
      },
      "text/plain": [
       "interactive(children=(IntSlider(value=500, description='k', max=1000, min=1), Output()), _dom_classes=('widget…"
      ]
     },
     "metadata": {},
     "output_type": "display_data"
    }
   ],
   "source": [
    "def k_coin_flips(k):\n",
    "    #flip k coins and get frequencies\n",
    "    #note that this relies on weights obtained from widget object above\n",
    "    flip_frequencies = Counter(choices(['heads','tails'],weights=widget_object.result, k=k))\n",
    "    #display the frequencies\n",
    "    display(dict(flip_frequencies))\n",
    "    \n",
    "    #split out heads and tails counts\n",
    "    heads = flip_frequencies['heads']\n",
    "    tails = flip_frequencies['tails']\n",
    "    \n",
    "    #make a graph\n",
    "    fig = plt.figure()\n",
    "    ax = fig.add_subplot(1, 1, 1)\n",
    "    ax.bar(1,heads, width = 0.8)\n",
    "    ax.bar(2,tails, width = 0.8)\n",
    "    \n",
    "    #set xtick labels so that we only see heads and tails instead of numbers\n",
    "    ax.set_xticks([1,2])\n",
    "    ax.set_xticklabels(['heads','tails'])\n",
    "    ax.set_ylabel('count')\n",
    "\n",
    "    fig.canvas.draw()\n",
    "    \n",
    "    return flip_frequencies\n",
    "\n",
    "k_flips_widget = interactive(k_coin_flips, k=(1,1000,1))\n",
    "display(k_flips_widget)"
   ]
  },
  {
   "cell_type": "code",
   "execution_count": 112,
   "metadata": {},
   "outputs": [
    {
     "data": {
      "application/vnd.jupyter.widget-view+json": {
       "model_id": "e5c4784beb9d403097848f7a61a4b74e",
       "version_major": 2,
       "version_minor": 0
      },
      "text/plain": [
       "interactive(children=(IntSlider(value=500, description='k', max=1000, min=1), IntSlider(value=50, description=…"
      ]
     },
     "metadata": {},
     "output_type": "display_data"
    }
   ],
   "source": [
    "def k_coin_flips_intergrated(k, p_heads, p_tails):\n",
    "    #flip k coins and get frequencies\n",
    "    #note that this relies on weights obtained from widget object above\n",
    "    flip_frequencies = Counter(choices(['heads','tails'],weights=[p_heads, p_tails], k=k))\n",
    "    #display the frequencies\n",
    "    display(dict(flip_frequencies))\n",
    "    \n",
    "    #split out heads and tails counts\n",
    "    heads = flip_frequencies['heads']\n",
    "    tails = flip_frequencies['tails']\n",
    "    \n",
    "    #make a bar graph\n",
    "    fig = plt.figure()\n",
    "    ax = fig.add_subplot(1, 1, 1)\n",
    "    ax.bar(1,heads, width = 0.8)\n",
    "    ax.bar(2,tails, width = 0.8)\n",
    "    \n",
    "    #set xtick labels so that we only see heads and tails instead of numbers\n",
    "    ax.set_xticks([1,2])\n",
    "    ax.set_xticklabels(['heads','tails'])\n",
    "    ax.set_ylabel('count')\n",
    "\n",
    "    fig.canvas.draw()\n",
    "    \n",
    "    return flip_frequencies\n",
    "\n",
    "k_flips__intergrated_widget = interactive(k_coin_flips_intergrated, k=(1,1000,1),\n",
    "                                         p_heads=(1,100,1), p_tails=(1,100,1))\n",
    "display(k_flips__intergrated_widget)"
   ]
  },
  {
   "cell_type": "code",
   "execution_count": 176,
   "metadata": {},
   "outputs": [
    {
     "data": {
      "application/vnd.jupyter.widget-view+json": {
       "model_id": "3b56a86327a04b389ae35bfc0fb993f2",
       "version_major": 2,
       "version_minor": 0
      },
      "text/plain": [
       "interactive(children=(FloatSlider(value=0.55, description='p_heads', max=1.0, min=0.1, step=0.05), IntSlider(v…"
      ]
     },
     "metadata": {},
     "output_type": "display_data"
    }
   ],
   "source": [
    "def approx_ev_graph(p_heads, k, show_ev=False):\n",
    "    '''\n",
    "    Builds interactive graph and sliders to demonstrate expected value as a function of number of events\n",
    "    '''\n",
    "    p_heads = p_heads\n",
    "    p_tails = 1-p_heads\n",
    "\n",
    "    k = k\n",
    "\n",
    "    weights = [p_heads, p_tails]\n",
    "\n",
    "    #flip coins k times\n",
    "    results = choices([0,1],weights=weights, k=k)\n",
    "\n",
    "    #calculate cumulative average\n",
    "    cum_average = []\n",
    "    for i in range(1,len(results)):\n",
    "        cum_average.append(np.mean(results[0:i]))\n",
    "\n",
    "    #calculate EV\n",
    "    expected = p_heads*0 + p_tails*1\n",
    "\n",
    "    #generate figure\n",
    "    fig = plt.figure()\n",
    "    ax = fig.add_subplot(1, 1, 1)\n",
    "    #plot cumulative average\n",
    "    ax.plot(cum_average)\n",
    "    #plot expected value line if show_ev checkbox clicked\n",
    "    if show_ev == True:\n",
    "        ax.plot([expected for x in range(0,k)])\n",
    "    #set ylim so it keeps things in perspective\n",
    "    ax.set_ylim((0,1))\n",
    "    #labels\n",
    "    ax.set_ylabel('average heads/tails')\n",
    "    ax.set_xlabel('number of coin flips')\n",
    "\n",
    "    fig.canvas.draw()\n",
    "\n",
    "approx_ev_widget = interactive(approx_ev_graph, k=(1,1000,1),\n",
    "                                         p_heads=(0.1,1,0.05))\n",
    "display(approx_ev_widget)"
   ]
  },
  {
   "cell_type": "code",
   "execution_count": null,
   "metadata": {},
   "outputs": [],
   "source": []
  }
 ],
 "metadata": {
  "kernelspec": {
   "display_name": "Python 3",
   "language": "python",
   "name": "python3"
  },
  "language_info": {
   "codemirror_mode": {
    "name": "ipython",
    "version": 3
   },
   "file_extension": ".py",
   "mimetype": "text/x-python",
   "name": "python",
   "nbconvert_exporter": "python",
   "pygments_lexer": "ipython3",
   "version": "3.6.10"
  }
 },
 "nbformat": 4,
 "nbformat_minor": 4
}
