{
 "cells": [
  {
   "cell_type": "code",
   "execution_count": 1,
   "metadata": {},
   "outputs": [],
   "source": [
    "from random import randint, choices\n",
    "import numpy as np\n",
    "import matplotlib.pyplot as plt\n",
    "from ipywidgets import interactive\n",
    "import ipywidgets as widgets"
   ]
  },
  {
   "cell_type": "code",
   "execution_count": 3,
   "metadata": {},
   "outputs": [
    {
     "name": "stdout",
     "output_type": "stream",
     "text": [
      "Set dice weights\n"
     ]
    },
    {
     "data": {
      "application/vnd.jupyter.widget-view+json": {
       "model_id": "a634a81278ad4dd4bfdf9c6712cd3417",
       "version_major": 2,
       "version_minor": 0
      },
      "text/plain": [
       "interactive(children=(IntSlider(value=20, description='one', min=1), IntSlider(value=20, description='two', mi…"
      ]
     },
     "metadata": {},
     "output_type": "display_data"
    },
    {
     "data": {
      "application/vnd.jupyter.widget-view+json": {
       "model_id": "10b3c3b3119d4db4a00317d0e3cb4494",
       "version_major": 2,
       "version_minor": 0
      },
      "text/plain": [
       "Button(description='Roll dice once', style=ButtonStyle())"
      ]
     },
     "metadata": {},
     "output_type": "display_data"
    },
    {
     "data": {
      "application/vnd.jupyter.widget-view+json": {
       "model_id": "105fa1cbb40e4a00852a3d7b692378a7",
       "version_major": 2,
       "version_minor": 0
      },
      "text/plain": [
       "Button(description='Roll dice 100 times', style=ButtonStyle())"
      ]
     },
     "metadata": {},
     "output_type": "display_data"
    },
    {
     "data": {
      "application/vnd.jupyter.widget-view+json": {
       "model_id": "df5854fab1654f63ab84d989695902c3",
       "version_major": 2,
       "version_minor": 0
      },
      "text/plain": [
       "Output()"
      ]
     },
     "metadata": {},
     "output_type": "display_data"
    }
   ],
   "source": [
    "#constants\n",
    "slider_max = 100\n",
    "slider_min = 1\n",
    "set_value = 20\n",
    "\n",
    "def dice_weights(one=widgets.IntSlider(min=slider_min, max=slider_max, step=1, value=set_value), \n",
    "                 two=widgets.IntSlider(min=slider_min, max=slider_max, step=1, value=set_value),\n",
    "                 three=widgets.IntSlider(min=slider_min, max=slider_max, step=1, value=set_value), \n",
    "                 four=widgets.IntSlider(min=slider_min, max=slider_max, step=1, value=set_value),\n",
    "                 five=widgets.IntSlider(min=slider_min, max=slider_max, step=1, value=set_value),\n",
    "                 six=widgets.IntSlider(min=slider_min, max=slider_max, step=1, value=set_value)):\n",
    "    '''\n",
    "    This produces slider widgets for each dice which then sets the weights for random.choices() which decides our rolls\n",
    "    '''\n",
    "    return dice_weights_list\n",
    "\n",
    "def roll_dice_once(b):\n",
    "    '''\n",
    "    Rolls dice once\n",
    "    '''\n",
    "    with output:\n",
    "        print(choices([1,2,3,4,5,6], weights=slider_widget.result, k=1), end='')\n",
    "        \n",
    "def roll_dice_hundred(b):\n",
    "    '''\n",
    "    Rolls dice 100 times\n",
    "    '''\n",
    "    with output:\n",
    "        print(choices([1,2,3,4,5,6], weights=slider_widget.result, k=100), end='')\n",
    "\n",
    "\n",
    "dice_weights_list = [] #empty list we will fill in order\n",
    "\n",
    "print(\"Set dice weights\")\n",
    "slider_widget = interactive(dice_weights)\n",
    "display(slider_widget)\n",
    "\n",
    "#button stuff here\n",
    "oneDiceRollButton = widgets.Button(description='Roll dice once')\n",
    "hundredDiceRollButton = widgets.Button(description='Roll dice 100 times')\n",
    "\n",
    "output = widgets.Output()\n",
    "\n",
    "display(oneDiceRollButton, hundredDiceRollButton, output)\n",
    "\n",
    "oneDiceRollButton.on_click(roll_dice_once)\n",
    "hundredDiceRollButton.on_click(roll_dice_hundred)"
   ]
  },
  {
   "cell_type": "code",
   "execution_count": null,
   "metadata": {},
   "outputs": [],
   "source": []
  }
 ],
 "metadata": {
  "kernelspec": {
   "display_name": "Python 3",
   "language": "python",
   "name": "python3"
  },
  "language_info": {
   "codemirror_mode": {
    "name": "ipython",
    "version": 3
   },
   "file_extension": ".py",
   "mimetype": "text/x-python",
   "name": "python",
   "nbconvert_exporter": "python",
   "pygments_lexer": "ipython3",
   "version": "3.6.10"
  }
 },
 "nbformat": 4,
 "nbformat_minor": 4
}
